{
 "cells": [
  {
   "cell_type": "markdown",
   "id": "4936f0dc",
   "metadata": {},
   "source": [
    "A computer program should receive 100 men's height in meter,one by one from the keyboard.do filter and display appropriate message for invalid inputs by user,the program should count the number of tall men and the number of short men,Any height less than or equal to 1.5 meters is considered short.Otherwise,the man is tall.Before the program ends,it should determine whether the number of short men is more than the number of tall men or vice-versa "
   ]
  },
  {
   "cell_type": "code",
   "execution_count": 1,
   "id": "2a8e13ad",
   "metadata": {},
   "outputs": [
    {
     "name": "stdout",
     "output_type": "stream",
     "text": [
      "what is your height?1.2\n",
      "what is your height?3.5\n",
      "what is your height?6.7\n",
      "what is your height?3.3\n",
      "what is your height?0.2\n",
      "what is your height?8.5\n",
      "what is your height?1.1\n",
      "what is your height?4.2\n",
      "what is your height?5.5\n",
      "what is your height?0.5\n",
      "there are more tall men in this list 8\n"
     ]
    }
   ],
   "source": [
    "def men_height():\n",
    "    tall=[]\n",
    "    short=[]\n",
    "    for x in range(10):\n",
    "        try:\n",
    "#this takes the height of 100 men and treats invalid input from user\n",
    "           height_list=float(input(\"what is your height?\"))\n",
    "        except:\n",
    "            print(\"enter value in float\")\n",
    "        else:\n",
    "#this add the height to the empty list depending on if it tall or short            \n",
    "            if x<=1.5:\n",
    "                short.append(x)\n",
    "            else:\n",
    "                tall.append(x)\n",
    "#this determine what list contains more height     \n",
    "    if len(short)>len(tall):\n",
    "        return f'there are more tall men in this list {len(short)}'\n",
    "    else:\n",
    "         return f'there are more tall men in this list {len(tall)}'\n",
    "        \n",
    "print(men_height())        \n",
    "                "
   ]
  },
  {
   "cell_type": "markdown",
   "id": "ff8b1499",
   "metadata": {},
   "source": [
    "An air pollution index API recording system should allow user to enter the name of month to start using the system,If the user entered september ,april,june or november as the month,30 API readings should be keyed in by the user.if user entered february ,the system will ask the user to choose between leap year or non leap year .if user chooses non leap year,28  readings should be keyed-in to the system or else,29 API readings will be captured.Other than that,31 readings should be keyed-in by the user.For each API reading entered ,the program should be able to analyse the condition and display the API reading with its status below\n",
    "\n",
    "API           STATUS\n",
    "0-50           Good\n",
    "51-100         Moderate\n",
    "101-200        Unhealthy\n",
    "201-300        Very Unhealthy\n",
    ">300           Hazardous"
   ]
  },
  {
   "cell_type": "code",
   "execution_count": 2,
   "id": "022c2d37",
   "metadata": {},
   "outputs": [
    {
     "name": "stdout",
     "output_type": "stream",
     "text": [
      "kindly enter the month :february\n",
      "select 1 for leap year.\n",
      "select 2 for non leap year.2\n",
      "Enter twenty-eight values: 6 7 1 2 3 4 5 8 9 10 10 9 8 7 6 5 4 3 2 1 1 2 3 4 5 6 7 8\n",
      "[[5, 'Good']]\n"
     ]
    }
   ],
   "source": [
    "#this function is defined to take no parameter but to return a statement that takes an input\n",
    "def api_record():\n",
    "    month_1=['september','april','june','november']\n",
    "    month_2=['february']\n",
    "    month_3=['january','march','may','july','august','october','december']\n",
    "    month=input('kindly enter the month :')\n",
    "    month=month.lower()\n",
    "#conditional statement are set for whatever input the function gets and these steps are put in a for loop\n",
    "    for inputs in month:\n",
    "        if month in month_1:\n",
    "            inputsofmonth_1=input(f'Enter thirty values separated by space: ').split(' ')\n",
    "            inputsofmonth_1=[float (x) for x in inputsofmonth_1]\n",
    "            average_1=sum(inputsofmonth_1)/len(inputsofmonth_1)\n",
    "            return average_1\n",
    "        elif month in month_3:\n",
    "            inputsofmonth_3=input('Enter thirty-one values separated by space: ').split(' ')\n",
    "            inputsofmonth_3=[float (x) for x in inputsofmonth_3]\n",
    "            average_3=sum(inputsofmonth_3)/len(inputsofmonth_3)\n",
    "            return average_3\n",
    "        elif month in month_2:\n",
    "            choice=input('select 1 for leap year.\\nselect 2 for non leap year.')\n",
    "            choice=[int (x) for x in choice]\n",
    "            if choice==1:\n",
    "                inputsofmonth_2=input('Enter twenty-nine values: ').split(' ')\n",
    "                inputsofmonth_2=[float (x) for x in inputsofmonth_2]\n",
    "                average_2=sum(inputsofmonth_2)/len(inputsofmonth_2)\n",
    "                \n",
    "            else:\n",
    "                inputsofmonth_2=input('Enter twenty-eight values: ').split(' ')\n",
    "                inputsofmonth_2=[float (x) for x in inputsofmonth_2]\n",
    "                average_2=sum(inputsofmonth_2)/len(inputsofmonth_2)\n",
    "                return average_2\n",
    "        else:\n",
    "            return('invalid month entered')\n",
    "apistatus=(api_record())\n",
    "apistatus=int(apistatus)\n",
    "if apistatus<=50:\n",
    "    status= 'Good'\n",
    "elif apistatus<=100:\n",
    "    status= 'Moderate'\n",
    "elif apistatus<=200:\n",
    "    status= 'Unhealthy'\n",
    "elif apistatus<=300:\n",
    "    status= 'Very Unhealthy'\n",
    "else:\n",
    "    status= 'Hazardous'\n",
    "api_report=[]\n",
    "api_report.append([apistatus,status])\n",
    "\n",
    "print (api_report)"
   ]
  },
  {
   "cell_type": "markdown",
   "id": "375a8522",
   "metadata": {},
   "source": [
    "create a simple calculator"
   ]
  },
  {
   "cell_type": "code",
   "execution_count": 3,
   "id": "70ce108b",
   "metadata": {},
   "outputs": [
    {
     "name": "stdout",
     "output_type": "stream",
     "text": [
      "select operation('add','subtract','multiply','divide'):multiply\n",
      "enter the first number:6\n",
      "enter the second number:13\n",
      "6.0 * 13.0 = 78.0\n"
     ]
    }
   ],
   "source": [
    "#define all the functions of the calculations to be done.\n",
    "def add(a,b):\n",
    "    return(a+b)\n",
    "def subtract(a,b):\n",
    "    return a-b\n",
    "def multiply(a,b):\n",
    "    return a*b\n",
    "def divide(a,b):\n",
    "    return a/b\n",
    "#take input to be passed into the function\n",
    "operation=input(\"select operation('add','subtract','multiply','divide'):\")\n",
    "first_number=float(input('enter the first number:'))\n",
    "second_number=float(input('enter the second number:'))\n",
    "#set conditional statement to return only one result from the various functions defined\n",
    "if operation=='add':\n",
    "    print(first_number,'+',second_number,'=',add(first_number,second_number))\n",
    "elif operation=='subtract':\n",
    "    print(first_number,'-',second_number,'=',subtract(first_number,second_number))\n",
    "elif operation=='multiply':\n",
    "    print(first_number,'*',second_number,'=',multiply(first_number,second_number))\n",
    "elif operation=='divide':\n",
    "    print(first_number,'/',second_number,'=',divide(first_number,second_number))\n",
    "else:\n",
    "    print('invalid operation')\n",
    "            \n",
    "            "
   ]
  }
 ],
 "metadata": {
  "kernelspec": {
   "display_name": "Python 3 (ipykernel)",
   "language": "python",
   "name": "python3"
  },
  "language_info": {
   "codemirror_mode": {
    "name": "ipython",
    "version": 3
   },
   "file_extension": ".py",
   "mimetype": "text/x-python",
   "name": "python",
   "nbconvert_exporter": "python",
   "pygments_lexer": "ipython3",
   "version": "3.9.7"
  }
 },
 "nbformat": 4,
 "nbformat_minor": 5
}
